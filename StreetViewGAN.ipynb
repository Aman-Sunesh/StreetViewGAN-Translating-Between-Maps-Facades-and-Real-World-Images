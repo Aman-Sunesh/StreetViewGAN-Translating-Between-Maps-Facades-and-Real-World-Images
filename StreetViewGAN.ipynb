{
 "cells": [
  {
   "cell_type": "markdown",
   "id": "de761177",
   "metadata": {},
   "source": [
    "# StreetViewGAN - Translating Between Maps Facades and Real World Images"
   ]
  },
  {
   "cell_type": "code",
   "execution_count": null,
   "id": "dce1f117",
   "metadata": {},
   "outputs": [],
   "source": [
    "import os\n",
    "import numpy as np\n",
    "from torch.utils.data import DataLoader\n",
    "import torch\n",
    "import torch.nn as nn\n",
    "import torch.nn.functional as F\n",
    "from torchvision.datasets import ImageFolder\n",
    "import torchvision.transforms as T\n",
    "from torchvision.utils import make_grid\n",
    "from torchvision.utils import save_image\n",
    "from tqdm.auto import tqdm\n",
    "from IPython.display import Image\n",
    "import matplotlib.pyplot as plt\n",
    "%matplotlib inline"
   ]
  }
 ],
 "metadata": {
  "language_info": {
   "name": "python"
  }
 },
 "nbformat": 4,
 "nbformat_minor": 5
}
